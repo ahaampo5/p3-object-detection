{
 "cells": [
  {
   "cell_type": "markdown",
   "id": "e1aa6de0",
   "metadata": {},
   "source": [
    "# Introduction"
   ]
  },
  {
   "cell_type": "markdown",
   "id": "c0cd07f7",
   "metadata": {},
   "source": [
    "> ### object detection을 효율적인 실험환경을 제공하는 mmcv를 기반으로 한 mmdetection 패키지 활용"
   ]
  },
  {
   "cell_type": "markdown",
   "id": "b74f4896",
   "metadata": {},
   "source": [
    "- mmcv 및 mmdetection 패키지 import"
   ]
  },
  {
   "cell_type": "code",
   "execution_count": null,
   "id": "7a9808dc",
   "metadata": {},
   "outputs": [],
   "source": [
    "from mmcv import Config\n",
    "from mmdet.datasets import build_dataset\n",
    "from mmdet.models import build_detector\n",
    "from mmdet.apis import train_detector\n",
    "from mmdet.datasets import (build_dataloader, build_dataset,\n",
    "                            replace_ImageToTensor)"
   ]
  },
  {
   "cell_type": "markdown",
   "id": "866cf4f3",
   "metadata": {},
   "source": [
    "- Customizing Dataset"
   ]
  },
  {
   "cell_type": "code",
   "execution_count": null,
   "id": "3733180a",
   "metadata": {},
   "outputs": [],
   "source": [
    "# 데이터 셋 클래스 설정\n",
    "classes = (\"UNKNOWN\", \"General trash\", \"Paper\", \"Paper pack\", \"Metal\", \"Glass\", \n",
    "           \"Plastic\", \"Styrofoam\", \"Plastic bag\", \"Battery\", \"Clothing\")\n",
    "# config file 들고오기\n",
    "cfg = Config.fromfile('./configs/swin/htc_cascade_mask_rcnn_swin_small_patch4_window7_mstrain_480-800_giou_4conv1f_adamw_3x_coco.py')"
   ]
  },
  {
   "cell_type": "markdown",
   "id": "84a9679a",
   "metadata": {},
   "source": [
    "- Dataset 관련 config 초기화  \n",
    " - config 구성 요소 : [MMDETECTION](https://mmdetection.readthedocs.io/en/latest/tutorials/config.html)"
   ]
  },
  {
   "cell_type": "code",
   "execution_count": null,
   "id": "5c19bd9b",
   "metadata": {},
   "outputs": [],
   "source": [
    "PREFIX = '../../input/data/'\n",
    "\n",
    "# dataset 바꾸기\n",
    "# json file경로와 이미지 경로 수정\n",
    "cfg.data.train.classes = classes\n",
    "cfg.data.train.img_prefix = PREFIX\n",
    "cfg.data.train.ann_file = PREFIX + 'train_all.json'\n",
    "cfg.data.train.seg_prefix=PREFIX\n",
    "\n",
    "cfg.data.val.classes = classes\n",
    "cfg.data.val.img_prefix = PREFIX\n",
    "cfg.data.val.ann_file = PREFIX + 'val.json'\n",
    "\n",
    "cfg.data.test.classes = classes\n",
    "cfg.data.test.img_prefix = PREFIX\n",
    "cfg.data.test.ann_file = PREFIX + 'test.json'\n",
    "\n",
    "cfg.data.samples_per_gpu = 4\n",
    "\n",
    "cfg.seed=2020\n",
    "cfg.gpu_ids = [0]\n",
    "cfg.work_dir = './work_dirs/version'\n",
    "\n",
    "cfg.evaluation.metric = ['bbox']\n",
    "cfg.log_config.interval = 200\n",
    "\n",
    "cfg.checkpoint_config = dict(type='CheckpointHook', interval=1, max_keep_ckpts=5)\n",
    "\n",
    "cfg.optimizer_config.grad_clip = dict(max_norm=35, norm_type=2)\n"
   ]
  },
  {
   "cell_type": "code",
   "execution_count": null,
   "id": "9607e332",
   "metadata": {},
   "outputs": [],
   "source": [
    "cfg.lr_config = dict(policy='CosineAnnealing',warmup='linear',warmup_iters=3000,\n",
    "                    warmup_ratio=0.0001, min_lr_ratio=1e-7)"
   ]
  },
  {
   "cell_type": "markdown",
   "id": "f28a0b5d",
   "metadata": {},
   "source": [
    "- Model builder"
   ]
  },
  {
   "cell_type": "code",
   "execution_count": null,
   "id": "0e26aacb",
   "metadata": {},
   "outputs": [],
   "source": [
    "model = build_detector(cfg.model)"
   ]
  },
  {
   "cell_type": "markdown",
   "id": "469f0a0c",
   "metadata": {},
   "source": [
    "- Dataset class 초기화"
   ]
  },
  {
   "cell_type": "code",
   "execution_count": null,
   "id": "9b748304",
   "metadata": {},
   "outputs": [],
   "source": [
    "datasets = [build_dataset(cfg.data.train)]"
   ]
  },
  {
   "cell_type": "markdown",
   "id": "785d80de",
   "metadata": {},
   "source": [
    "- Training Model"
   ]
  },
  {
   "cell_type": "code",
   "execution_count": null,
   "id": "c8ec9201",
   "metadata": {},
   "outputs": [],
   "source": [
    "train_detector(model, datasets[0], cfg, distributed=False, validate=True)"
   ]
  }
 ],
 "metadata": {
  "kernelspec": {
   "display_name": "Python 3",
   "language": "python",
   "name": "python3"
  },
  "language_info": {
   "codemirror_mode": {
    "name": "ipython",
    "version": 3
   },
   "file_extension": ".py",
   "mimetype": "text/x-python",
   "name": "python",
   "nbconvert_exporter": "python",
   "pygments_lexer": "ipython3",
   "version": "3.8.8"
  }
 },
 "nbformat": 4,
 "nbformat_minor": 5
}
